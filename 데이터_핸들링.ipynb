{
  "nbformat": 4,
  "nbformat_minor": 0,
  "metadata": {
    "colab": {
      "provenance": [],
      "authorship_tag": "ABX9TyPdmjGy8/WyM8wGKT216dK4",
      "include_colab_link": true
    },
    "kernelspec": {
      "name": "python3",
      "display_name": "Python 3"
    },
    "language_info": {
      "name": "python"
    }
  },
  "cells": [
    {
      "cell_type": "markdown",
      "metadata": {
        "id": "view-in-github",
        "colab_type": "text"
      },
      "source": [
        "<a href=\"https://colab.research.google.com/github/KorStats/ADP-test/blob/main/%EB%8D%B0%EC%9D%B4%ED%84%B0_%ED%95%B8%EB%93%A4%EB%A7%81.ipynb\" target=\"_parent\"><img src=\"https://colab.research.google.com/assets/colab-badge.svg\" alt=\"Open In Colab\"/></a>"
      ]
    },
    {
      "cell_type": "markdown",
      "source": [
        "# **DataFrame 기본**"
      ],
      "metadata": {
        "id": "uYNmsFc7CZX7"
      }
    },
    {
      "cell_type": "code",
      "execution_count": null,
      "metadata": {
        "id": "oo0vP-xGCYZV"
      },
      "outputs": [],
      "source": [
        "import pandas as pd\n",
        "import numpy as np\n",
        "pd.set_option('display.max_columns', None)\n",
        "pd.set_option('display.max_rows', None)\n",
        "\n",
        "data=np.array([['kor', 70], ['math', 80]])\n",
        "data=[['kor', 70], ['math', 80]]\n",
        "df=pd.DataFrame(dataset, columns=['class', 'score'])\n",
        "df=pd.read_csv('myfile/data.csv', na_values='NA', encoding='utf-8')\n",
        "df.to_csv('result.csv', header=True, index=True, encoding='utf-8')\n",
        "\n",
        "df.head() / df.tail() / df.info() / df.describe() \n",
        "df.columns / df.index / df.dtypes\n",
        "df.set_index('class', drop=True, append=False, inplace=True)\n",
        "df.reset_index(drop=False, inplace=True)\n",
        "df.columns=df.columns.str.replace(' ', '_')\n",
        "df[['sepal_width', 'petal_length']]=df[['sepal_width', 'petal_length']].astype('int')"
      ]
    },
    {
      "cell_type": "code",
      "source": [
        "score=pd.DataFrame({'국어':[100, 80], '수학':[75, 90], '영어':[90, 95]}, index=['장화', '홍련'])\n",
        "new_students=pd.DataFrame({'국어':[70, 85], '수학':[65, 100],'영어':[95, 65]}, index=['콩쥐', '팥쥐'])\n",
        "new_student=pd.Series({'국어': 85, '수학': 70, '영어' : 85}, name='해님')\n",
        "score.append(new_students)\n",
        "score.append(new_student)\n",
        "score['총점']=score['국어']+score['수학']+score['영어']\n",
        "scroe.drop('장화', inplace=True)\n",
        "score.drop(columns=['총점'], inplace=True)\n",
        "score.loc[(score['국어']>=80) & (score['수학']>=80), '합격']='Pass'\n",
        "score.loc[score['합격']!='Pass', '합격']='Fail'"
      ],
      "metadata": {
        "id": "09GrX_J7D_zE"
      },
      "execution_count": null,
      "outputs": []
    },
    {
      "cell_type": "code",
      "source": [
        "df.isna().sum() #열합계\n",
        "df.isna().sum(1) #행합계\n",
        "df.dropna(thresh=4) #결측값이 아닌 값이 4개보다 많은 행만 남기기\n",
        "df['병결']=df['병결'].fillna(0)\n",
        "df['몸무게']=df['몸무게'].fillna(df['몸무게'].mean())\n",
        "df['키']=df['키'].fillna(method='pad', inplace=True) #pad, ffill:이전값 대체 / backfill, bfill : 다음값 대체\n",
        "df['키'].drop_duplicates() / df[['시력', '병결']].drop_duplicates() #중복행 삭제\n",
        "df.sort_index(ascending=False, inplace=True) #인덱스 내림차순\n",
        "df.sort_index(axis=1, ascending=True, inplace=True) #컬럼명 오름차순\n",
        "df.sort_values('petal_width')\n",
        "df.sort_values(['petal_width', 'sepal_lenght']) #값 기준 정렬\n",
        "df.concat([HR1, HR2], axis=0, ignore_index=True) #명부 결합\n",
        "df.concat([HR1, HR3], aixs=1) #변수 결합\n",
        "df1.merge(df2, left_on='idx', right_on='idx', how='inner') #left, right, outer, inner\n",
        "df.groupby(by='class').mean() #count/sum/min/max/mean/median/std/var/quantile(n)/first/last/describe\n",
        "df['petal width level']=pd.qcut(df['petal width'], q=3, labels=['s','m','l'])\n",
        "pd.Series(df['petal width level']).value_counts().to_frame()\n",
        "pd.crosstab(df['petal width level'], df['class'])"
      ],
      "metadata": {
        "id": "H-6BPvz1J2nb"
      },
      "execution_count": null,
      "outputs": []
    },
    {
      "cell_type": "code",
      "source": [
        "score={'학년':[1,1,1,1,2,2],'반':[1,2,3,1,2,3],'성별'['F','M','F','M','F','M'],'성적':[70,60,90,92,60,80]}\n",
        "score=pd.DataFrame(score)\n",
        "score=score.pivot_table(index=['학년','반'], columns='성별', values='성적')\n",
        "score.reset_index().melt(id_vars=['학년','반'], var_name='성별', value_name='성적')\n",
        "score.apply(np.sqrt, axis=0) / score.apply(np.max, axis=0)\n",
        "score['남자'].map(lambda x:x+5)"
      ],
      "metadata": {
        "id": "W7l7aEUkOnar"
      },
      "execution_count": null,
      "outputs": []
    },
    {
      "cell_type": "code",
      "source": [
        "landmark['location'].str[3:6]\n",
        "landmark['location'].str.split(\" \", expand=True)\n",
        "landmark['loc']=landmark['location'].str.split(\" \").str[0]\n",
        "landmark['location'].str.startswith('서울') #endswith, contains"
      ],
      "metadata": {
        "id": "pqJ6w8PtS8O7"
      },
      "execution_count": null,
      "outputs": []
    },
    {
      "cell_type": "code",
      "source": [
        "from datetime import datetime, timedelta\n",
        "datetime.today().year\n",
        "datetime.strptime('2023-01-01', '%Y-%m-%d') #strptime : 문자열 -> 날짜형\n",
        "time=datetime.today()\n",
        "time.strftime('%Y-%m-%d') #strftime : 날짜형 -> 문자열\n",
        "time+timedelta(days=100) #days, seconds, minutes, hours, weeks"
      ],
      "metadata": {
        "id": "VLh9IdglTcU6"
      },
      "execution_count": null,
      "outputs": []
    }
  ]
}