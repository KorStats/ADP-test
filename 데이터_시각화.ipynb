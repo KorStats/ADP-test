{
  "nbformat": 4,
  "nbformat_minor": 0,
  "metadata": {
    "colab": {
      "provenance": [],
      "authorship_tag": "ABX9TyPVJQjn9H/X/nCSJWjRKOg7",
      "include_colab_link": true
    },
    "kernelspec": {
      "name": "python3",
      "display_name": "Python 3"
    },
    "language_info": {
      "name": "python"
    }
  },
  "cells": [
    {
      "cell_type": "markdown",
      "metadata": {
        "id": "view-in-github",
        "colab_type": "text"
      },
      "source": [
        "<a href=\"https://colab.research.google.com/github/KorStats/ADP-test/blob/main/%EB%8D%B0%EC%9D%B4%ED%84%B0_%EC%8B%9C%EA%B0%81%ED%99%94.ipynb\" target=\"_parent\"><img src=\"https://colab.research.google.com/assets/colab-badge.svg\" alt=\"Open In Colab\"/></a>"
      ]
    },
    {
      "cell_type": "code",
      "execution_count": null,
      "metadata": {
        "id": "6lXWMuQVU3SE"
      },
      "outputs": [],
      "source": [
        "import matplotlib.pyplot as plt\n",
        "from pandas.plotting import scatter_matrix\n",
        "df_type=df['Class'].value_counts()\n",
        "plt.bar(df_type.index, df_type.values, width=0.8, bottom=None, align='center') #막대그래프\n",
        "plt.barh(df_type.index, df_type.values, height=0.8, left=None, align='edge') #수평막대그래프\n",
        "plt.hist('alchol', bins=8, range=(11,15), color='red', data=df) #히스토그램\n",
        "plt.boxplot(df.drop(columns='class')) #상자그림\n",
        "df[['sepal width', 'class']].boxplot(by='class') \n",
        "plt.scatter(x=df['sepal length'], y=df['sepal width'], alpha=0.5) #산점도\n",
        "plt.hlines(-5, -10, 10, color='grey') #수평선\n",
        "plt.vlines(2, -10, 10, linestyles='solid') #수직선 #solid, dashed, dashdot, dotted\n",
        "plt.plot(df['sepal length'], df['sepal length']*2+1, c='#789395') #선 그래프\n",
        "scatter_matrix(df, alpha=0.5, figsize=(8,8), diagonal='hist') #산점도행렬 #hist, kde\n",
        "\n",
        "\n",
        "import seaborn as sns\n",
        "sns.boxplot(x='class', y='sepal width', data=df) #상자그림\n",
        "sns.scatterplot(x='sepal length', y='sepal width', data=df, hue='class', style='class') #산점도\n",
        "sns.pairplot(df, diag_kind='auto', hue='Class') #산점도행렬 #auto, hist, kde\n",
        "sns.heatmap(df.corr(method='pearson'), xticklabels=df.columns, yticklabels=df.columns, cmap='RdBu_r', annot=True)\n",
        "\n",
        "plt.title('graph')\n",
        "plt.xlabel('sepal length')\n",
        "ply.ylabel('sepal width')\n",
        "plt.show()"
      ]
    },
    {
      "cell_type": "code",
      "source": [
        "X, Y=df['sepal length'], df['petal length']\n",
        "b1, b0=np.polyfit(X, Y, 1) # Y=b1*X+b0\n",
        "b2, b1, b0=np.polyfit(X, Y, 2) #b2X^2+b1*X+b0\n",
        "plt.scatter(x=X, y=Y, alpha=0.5)\n",
        "plt.plot(X, b1*X+b0, color='red')\n",
        "plt.plot(X, b0+b1*X+b2*X**2, color='red')\n",
        "plt.show()\n",
        "\n",
        "df2=df.sort_values(by='sepal length')\n",
        "plt.plot('sepal length', 'petal length', data=df2)\n",
        "plt.show()"
      ],
      "metadata": {
        "id": "jSB_yymXYDfT"
      },
      "execution_count": null,
      "outputs": []
    },
    {
      "cell_type": "code",
      "source": [
        "!pip uninstall pandas_profiling\n",
        "!pip install pandas-profiling[notebook, html]\n",
        "from pandas_profiling import ProfileReport\n",
        "ProfileReport(df)"
      ],
      "metadata": {
        "id": "BtSNNzCGZHNO"
      },
      "execution_count": null,
      "outputs": []
    }
  ]
}